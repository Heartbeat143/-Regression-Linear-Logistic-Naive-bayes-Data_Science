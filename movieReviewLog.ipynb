{
 "cells": [
  {
   "cell_type": "code",
   "execution_count": 17,
   "metadata": {},
   "outputs": [
    {
     "name": "stdout",
     "output_type": "stream",
     "text": [
      "lehgth of total files in positive is 694 . So training data is till 600.\n",
      "\n",
      "lehgth of total files in negative is 693 . So training data is till 600.\n",
      "\n",
      "words in +ve 28889 ; in -ve 27348 and total unique words 40238\n",
      "\n"
     ]
    }
   ],
   "source": [
    "\n",
    "from collections import defaultdict\n",
    "import os    \n",
    "import pandas as pd\n",
    "\n",
    "uniqueDict=defaultdict(list)\n",
    "dicPos=defaultdict(int)\n",
    "dicNeg=defaultdict(int)\n",
    "\n",
    "#for positive data\n",
    "filesPos = os.listdir(\"./pos\") \n",
    "print(\"lehgth of total files in positive is\",len(filesPos),\". So training data is till 600.\");print()\n",
    "\n",
    "for i in range(600):\n",
    "    file=filesPos[i].split('.')\n",
    "    if file[0] != \"\":\n",
    "        data=open(\"./pos/\"+file[0]+'.txt',encoding=\"utf-8\",errors='ignore' )    \n",
    "        df=data.read()\n",
    "\n",
    "        for word in df.split():\n",
    "            if word not in uniqueDict:\n",
    "                uniqueDict[word]\n",
    "            if word not in dicPos:\n",
    "                dicPos[word]=1\n",
    "            else:\n",
    "                dicPos[word]+=1\n",
    "\n",
    "#for negative data\n",
    "filesNeg = os.listdir(\"./neg\") \n",
    "print(\"lehgth of total files in negative is\",len(filesNeg),\". So training data is till 600.\");print()\n",
    "\n",
    "for i in range(600):\n",
    "    file=filesNeg[i].split('.')\n",
    "    if file[0] != \"\":\n",
    "        data=open(\"./neg/\"+file[0]+'.txt',encoding=\"utf-8\",errors='ignore' )    \n",
    "        df=data.read()\n",
    "\n",
    "        for word in df.split():\n",
    "            if word not in uniqueDict:\n",
    "                uniqueDict[word]\n",
    "            if word not in dicNeg:\n",
    "                dicNeg[word]=1\n",
    "            else:\n",
    "                dicNeg[word]+=1\n",
    "                \n",
    "                \n",
    "vocab=len(uniqueDict)\n",
    "pos=len(dicPos)\n",
    "neg=len(dicNeg)              \n",
    "print(\"words in +ve\",pos,\"; in -ve\",neg,\"and total unique words\",vocab);print()\n",
    "\n",
    "# Naive Base training for 1200 documents (600 +ve and 600 -ve)\n",
    "probPos=defaultdict(float)\n",
    "probNeg=defaultdict(float)\n",
    "\n",
    "totalPos=0;totalNeg=0    #total counts of duplicates words\n",
    "for word in dicPos:\n",
    "    totalPos+=dicPos[word]\n",
    "\n",
    "for word in dicNeg:\n",
    "    totalNeg+=dicNeg[word]\n",
    "\n",
    "for word in dicPos:   #probability of a word in both +ve and -ve \n",
    "    probPos[word] = (1+dicPos[word])/(vocab+totalPos)     # plus 1, in case of count=0\n",
    "for word in dicNeg:\n",
    "    probNeg[word] = (1+dicNeg[word])/(vocab+totalNeg)\n",
    "\n"
   ]
  },
  {
   "cell_type": "code",
   "execution_count": 13,
   "metadata": {},
   "outputs": [],
   "source": [
    "#testing +ve the data remaining\n",
    "import math\n",
    "count=0\n",
    "for i in range(600,693,1):\n",
    "    file=filesPos[i].split('.')\n",
    "    if file[0] != \"\":\n",
    "        data=open(\"./pos/\"+file[0]+'.txt',encoding=\"utf-8\",errors='ignore' )    \n",
    "        df=data.read()\n",
    "\n",
    "#         print(file[0]+\".\"+file[1],end=\" is \")\n",
    "        \n",
    "        dic=defaultdict(int)\n",
    "        for word in df.split():\n",
    "            dic[word]= 1 if word not in dic else (dic[word]+1)\n",
    "        \n",
    "        positive=0.5    \n",
    "        negative=0.5\n",
    "        notFound=10**(-20)\n",
    "        for word in dic:   #probability of a word in both +ve and -ve\n",
    "            positive += math.log10(probPos[word]) if word in probPos else math.log10(notFound)\n",
    "            negative += math.log10(probNeg[word]) if word in probNeg else math.log10(notFound)\n",
    "\n",
    "        if (positive >negative):\n",
    "            count+=1\n",
    "#             print(\"+ve\")\n",
    "#         else:\n",
    "#             print(\"-ve\")\n",
    "        "
   ]
  },
  {
   "cell_type": "code",
   "execution_count": 14,
   "metadata": {},
   "outputs": [],
   "source": [
    "#testing -ve the data remaining \n",
    "import math\n",
    "countN=0\n",
    "for i in range(600,693,1):\n",
    "    file=filesNeg[i].split('.')\n",
    "    if file[0] != \"\":\n",
    "        data=open(\"./neg/\"+file[0]+'.txt',encoding=\"utf-8\",errors='ignore' )    \n",
    "        df=data.read()\n",
    "\n",
    "#         print(file[0]+\".\"+file[1],end=\" is \")\n",
    "        \n",
    "        dic=defaultdict(int)\n",
    "        for word in df.split():\n",
    "            dic[word]= 1 if word not in dic else (dic[word]+1)\n",
    "        \n",
    "        positive=0.5    \n",
    "        negative=0.5\n",
    "        notFound=10**(-20)\n",
    "        for word in dic:   #probability of a word in both +ve and -ve\n",
    "            \n",
    "            positive += math.log10(probPos[word]) if word in probPos else math.log10(notFound)\n",
    "            negative += math.log10(probNeg[word]) if word in probNeg else math.log10(notFound)\n",
    "#             if word in probPos:\n",
    "#                 positive *= probPos[word]\n",
    "#             if word in probNeg:\n",
    "#                 negative *= probNeg[word]\n",
    "#             print(positive,negative)\n",
    "    \n",
    "        if (positive < negative):\n",
    "            countN+=1\n",
    "#             print(\"-ve\")\n",
    "#         else:\n",
    "#             print(\"+ve\")\n",
    "        "
   ]
  },
  {
   "cell_type": "code",
   "execution_count": 15,
   "metadata": {},
   "outputs": [
    {
     "name": "stdout",
     "output_type": "stream",
     "text": [
      "accuracy for negative 93 files 64.51612903225806\n",
      "accuracy for positive 93 files 70.96774193548387\n"
     ]
    }
   ],
   "source": [
    "acc=(count)*100/93\n",
    "accN=countN*100/93\n",
    "print(\"accuracy for negative 93 files\",accN)\n",
    "print(\"accuracy for positive 93 files\",acc)"
   ]
  },
  {
   "cell_type": "code",
   "execution_count": null,
   "metadata": {},
   "outputs": [],
   "source": []
  }
 ],
 "metadata": {
  "kernelspec": {
   "display_name": "Python 3",
   "language": "python",
   "name": "python3"
  },
  "language_info": {
   "codemirror_mode": {
    "name": "ipython",
    "version": 3
   },
   "file_extension": ".py",
   "mimetype": "text/x-python",
   "name": "python",
   "nbconvert_exporter": "python",
   "pygments_lexer": "ipython3",
   "version": "3.6.8"
  }
 },
 "nbformat": 4,
 "nbformat_minor": 4
}
