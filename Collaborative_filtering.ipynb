{
 "cells": [
  {
   "cell_type": "code",
   "execution_count": null,
   "metadata": {},
   "outputs": [],
   "source": [
    "import numpy as np\n",
    "\n",
    "movies=500\n",
    "users=200\n",
    "type_size=4\n",
    "\n",
    "user_mat=np.random.randint(10,size=(users,movies))\n",
    "type_mat=np.random.randint(low=-10,high=10,size=(users,type_size))*0.01   #matrix of types of movie\n",
    "user_mat=np.insert(user_mat, 0, [1], axis=1)\n",
    "\n",
    "#for class example\n",
    "# user_mat=np.array([[0,4,0,3,0],[2,0,5,0,3],[4,0,4,0,2],[1,3,0,2,5],[0,2,3,4,0]])\n",
    "# type_mat=np.array([[-0.2,0.8],[0.5,-0.6],[3,2],[-2,3.5],[2,1]])\n",
    "\n",
    "print(\"user matrix is\\n\",user_mat)\n",
    "\n",
    "recom=[]  #movie recommendation array\n",
    "\n",
    "#using linear regression \n",
    "for movie in range(movies):\n",
    "    X=[];Y=[]\n",
    "    for user in range(users):\n",
    "        if user_mat[user][movie]!=0:\n",
    "            Y.append([user_mat[user][movie]])\n",
    "            X.append(list(type_mat[user]))\n",
    "        \n",
    "    #applying w=(Xt.X)^(-1).(XtY)\n",
    "    X_trans=np.transpose(X)\n",
    "    \n",
    "    X_trans_X=np.dot(X_trans,X)\n",
    "    \n",
    "    inv_XtX=np.linalg.inv(X_trans_X)\n",
    "    \n",
    "    XtY=np.dot(X_trans,Y)\n",
    "    \n",
    "    res=np.dot(inv_XtX,XtY)\n",
    "#     print(\"res is \",res)\n",
    "    recom.append(list(res))\n",
    "print(\"\\nresult of recommondatiom matrix\",np.array(recom))"
   ]
  },
  {
   "cell_type": "code",
   "execution_count": null,
   "metadata": {},
   "outputs": [],
   "source": []
  }
 ],
 "metadata": {
  "kernelspec": {
   "display_name": "Python 3",
   "language": "python",
   "name": "python3"
  },
  "language_info": {
   "codemirror_mode": {
    "name": "ipython",
    "version": 3
   },
   "file_extension": ".py",
   "mimetype": "text/x-python",
   "name": "python",
   "nbconvert_exporter": "python",
   "pygments_lexer": "ipython3",
   "version": "3.6.8"
  }
 },
 "nbformat": 4,
 "nbformat_minor": 4
}
